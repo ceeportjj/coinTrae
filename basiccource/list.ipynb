{
 "cells": [
  {
   "cell_type": "markdown",
   "source": [
    "파이썬 자료\n",
    "리스트 = 순서,수정 가능\n",
    "튜블 = 순서 수정 불가\n",
    "딕셔너리 순서x,수정 가능"
   ],
   "metadata": {
    "collapsed": false
   }
  },
  {
   "cell_type": "code",
   "execution_count": null,
   "outputs": [],
   "source": [],
   "metadata": {
    "collapsed": false
   }
  }
 ],
 "metadata": {
  "kernelspec": {
   "display_name": "Python 3",
   "language": "python",
   "name": "python3"
  },
  "language_info": {
   "codemirror_mode": {
    "name": "ipython",
    "version": 2
   },
   "file_extension": ".py",
   "mimetype": "text/x-python",
   "name": "python",
   "nbconvert_exporter": "python",
   "pygments_lexer": "ipython2",
   "version": "2.7.6"
  }
 },
 "nbformat": 4,
 "nbformat_minor": 0
}
